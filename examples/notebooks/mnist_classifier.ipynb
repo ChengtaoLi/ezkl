{
  "cells": [
    {
      "cell_type": "markdown",
      "metadata": {
        "id": "6ypZa6jg0rZy"
      },
      "source": [
        "## Mnist Clan-ssifier ;)\n",
        "\n",
        "Here we demonstrate how to use the EZKL package to build an MNIST classifier for on-chain handrawn digit recognition.\n",
        "The proofs get submitted to a contract that assigns the users account to a digit clan (0-9). The contract keeps track of the member count of each clan. The clan with the most members is the winner!\n",
        "\n",
        "![zk-gaming-diagram-transformed](https://file.notion.so/f/f/f9535faf-4480-4499-9059-a48ba240eaa9/cd13414a-ecd8-4b8f-90a1-8a2311baa278/Untitled.png?id=365d66ee-e653-4ec3-8eb6-6d2b6306455a&table=block&spaceId=f9535faf-4480-4499-9059-a48ba240eaa9&expirationTimestamp=1701568800000&signature=VJ9p3YsOjYjeLxmkVEWOJw_3VmM6IBkTYxMwQUFKeus&downloadName=Untitled.png)\n",
        "> **A typical ZK application flow**. For all the image classifictiton hackers out there — this is an fairly straight forward example. A user computes a ZKML-proof that they have calculated a valid classification of a hand drawn digit from a MNIST trained lenet model. They submit this proof to a verifier contract which governs a set of clans, along with the output values of the model (length 10 tensor whereby the index with the max value represented the prediction), and the clan count updates according the lenets model's prediction."
      ]
    },
    {
      "cell_type": "code",
      "execution_count": 24,
      "metadata": {
        "id": "Fm2DMmXW0rZ0",
        "colab": {
          "base_uri": "https://localhost:8080/"
        },
        "outputId": "0c245da0-e42f-4de6-a434-2fe8a030b23c"
      },
      "outputs": [
        {
          "output_type": "stream",
          "name": "stdout",
          "text": [
            "CUDA Available: False\n",
            "Using device: cpu\n",
            "CPU Information:\n",
            "model name\t: Intel(R) Xeon(R) CPU @ 2.20GHz\n",
            "model name\t: Intel(R) Xeon(R) CPU @ 2.20GHz\n",
            "\n",
            "Memory Information:\n",
            "MemTotal:       13290460 kB\n",
            "\n",
            "Disk Space Information:\n",
            "Filesystem      Size  Used Avail Use% Mounted on\n",
            "overlay         108G   33G   75G  31% /\n",
            "tmpfs            64M     0   64M   0% /dev\n",
            "shm             5.8G  4.0K  5.8G   1% /dev/shm\n",
            "/dev/root       2.0G  1.2G  820M  59% /usr/sbin/docker-init\n",
            "tmpfs           6.4G  200K  6.4G   1% /var/colab\n",
            "/dev/sda1        77G   58G   20G  75% /etc/hosts\n",
            "tmpfs           6.4G     0  6.4G   0% /proc/acpi\n",
            "tmpfs           6.4G     0  6.4G   0% /proc/scsi\n",
            "tmpfs           6.4G     0  6.4G   0% /sys/firmware\n"
          ]
        }
      ],
      "source": [
        "# check if notebook is in colab\n",
        "try:\n",
        "    # install ezkl\n",
        "    import google.colab\n",
        "    import subprocess\n",
        "    import sys\n",
        "    subprocess.check_call([sys.executable, \"-m\", \"pip\", \"install\", \"ezkl\"])\n",
        "    subprocess.check_call([sys.executable, \"-m\", \"pip\", \"install\", \"torch\"])\n",
        "    subprocess.check_call([sys.executable, \"-m\", \"pip\", \"install\", \"torchvision\"])\n",
        "    subprocess.check_call([sys.executable, \"-m\", \"pip\", \"install\", \"tf2onnx\"])\n",
        "    subprocess.check_call([sys.executable, \"-m\", \"pip\", \"install\", \"onnx\"])\n",
        "\n",
        "# rely on local installation of ezkl if the notebook is not in colab\n",
        "except:\n",
        "    pass\n",
        "\n",
        "# make sure you have the dependencies required here already installed\n",
        "import ezkl\n",
        "import os\n",
        "import json\n",
        "import time\n",
        "import random\n",
        "import logging\n",
        "\n",
        "# Check if CUDA is available\n",
        "cuda_available = torch.cuda.is_available()\n",
        "print(\"CUDA Available:\", cuda_available)\n",
        "\n",
        "# Set device to GPU if available, else CPU\n",
        "device = torch.device('cuda' if cuda_available else 'cpu')\n",
        "print('Using device:', device)\n",
        "\n",
        "# Display CPU information\n",
        "print(\"CPU Information:\")\n",
        "!cat /proc/cpuinfo | grep \"model name\"\n",
        "\n",
        "# Display memory information\n",
        "print(\"\\nMemory Information:\")\n",
        "!cat /proc/meminfo | grep \"MemTotal\"\n",
        "\n",
        "# Display disk space information\n",
        "print(\"\\nDisk Space Information:\")\n",
        "!df -h\n",
        "\n",
        "# Get GPU name and memory info if using GPU\n",
        "if cuda_available:\n",
        "    print(\"GPU Name:\", torch.cuda.get_device_name(0))\n",
        "    print(\"Memory Allocated:\", round(torch.cuda.memory_allocated(0) / 1024**3, 1), \"GB\")\n",
        "    print(\"Memory Cached:\", round(torch.cuda.memory_reserved(0) / 1024**3, 1), \"GB\")\n",
        "\n",
        "# uncomment for more descriptive logging\n",
        "FORMAT = '%(levelname)s %(name)s %(asctime)-15s %(filename)s:%(lineno)d %(message)s'\n",
        "logging.basicConfig(format=FORMAT)\n",
        "logging.getLogger().setLevel(logging.INFO)"
      ]
    },
    {
      "cell_type": "code",
      "execution_count": 25,
      "metadata": {
        "id": "jbRkAJLz0rZ1"
      },
      "outputs": [],
      "source": [
        "import torch\n",
        "import torch.nn as nn\n",
        "import torch.nn.functional as F\n",
        "\n",
        "class LeNet(nn.Module):\n",
        "    def __init__(self):\n",
        "        super(LeNet, self).__init__()\n",
        "        # Convolutional encoder\n",
        "        self.fc1 = nn.Linear(28 * 28, 1024)\n",
        "        self.fc2 = nn.Linear(1024, 10)\n",
        "        self.relu = nn.ReLU()\n",
        "\n",
        "    def forward(self, x):\n",
        "        # Convolutional block\n",
        "        x = x.view(x.size(0), -1)\n",
        "        x = self.fc1(x)\n",
        "        x = self.relu(x)\n",
        "        x = self.fc2(x)\n",
        "\n",
        "        return x\n"
      ]
    },
    {
      "cell_type": "code",
      "execution_count": 26,
      "metadata": {
        "colab": {
          "base_uri": "https://localhost:8080/"
        },
        "id": "8yYNrvus0rZ2",
        "outputId": "db9c24b1-93da-42b8-f50a-42e410ddb3a4"
      },
      "outputs": [
        {
          "output_type": "stream",
          "name": "stdout",
          "text": [
            "test accuracy: 0.946\n",
            "test accuracy: 0.964\n",
            "test accuracy: 0.969\n",
            "test accuracy: 0.971\n",
            "test accuracy: 0.972\n",
            "test accuracy: 0.971\n",
            "test accuracy: 0.971\n",
            "test accuracy: 0.973\n",
            "test accuracy: 0.977\n",
            "test accuracy: 0.976\n"
          ]
        }
      ],
      "source": [
        "import numpy as np\n",
        "import os\n",
        "import torch\n",
        "from torchvision.datasets import mnist\n",
        "from torch.nn import CrossEntropyLoss\n",
        "from torch.optim import Adam  # Import Adam\n",
        "from torch.utils.data import DataLoader\n",
        "from torchvision.transforms import ToTensor\n",
        "\n",
        "def normalize_img(image, label):\n",
        "  return torch.round(image), label\n",
        "\n",
        "device = 'cuda' if torch.cuda.is_available() else 'cpu'\n",
        "batch_size = 256\n",
        "train_dataset = mnist.MNIST(root='./train', train=True, transform=ToTensor(), download=True)\n",
        "test_dataset = mnist.MNIST(root='./test', train=False, transform=ToTensor(), download=True)\n",
        "train_loader = DataLoader(train_dataset, batch_size=batch_size)\n",
        "test_loader = DataLoader(test_dataset, batch_size=batch_size)\n",
        "model = LeNet().to(device)\n",
        "adam = Adam(model.parameters())  # Using Adam with a learning rate of 1e-3\n",
        "loss_fn = CrossEntropyLoss()\n",
        "all_epoch = 10\n",
        "prev_acc = 0\n",
        "for current_epoch in range(all_epoch):\n",
        "    model.train()\n",
        "    for idx, (train_x, train_label) in enumerate(train_loader):\n",
        "        train_x = train_x.to(device)\n",
        "        # normalize the image to 0 or 1 to reflect the inputs from the drawing board\n",
        "        train_x = train_x.round()\n",
        "        train_label = train_label.to(device)\n",
        "        adam.zero_grad()  # Use adam optimizer\n",
        "        predict_y = model(train_x.float())\n",
        "        loss = loss_fn(predict_y, train_label.long())\n",
        "        loss.backward()\n",
        "        adam.step()  # Use adam optimizer\n",
        "    all_correct_num = 0\n",
        "    all_sample_num = 0\n",
        "    model.eval()\n",
        "\n",
        "    for idx, (test_x, test_label) in enumerate(test_loader):\n",
        "        test_x = test_x.to(device)\n",
        "         # normalize the image to 0 or 1 to reflect the inputs from the drawing board\n",
        "        test_x = test_x.round()\n",
        "        test_label = test_label.to(device)\n",
        "        predict_y = model(test_x.float()).detach()\n",
        "        predict_y = torch.argmax(predict_y, dim=-1)\n",
        "        current_correct_num = predict_y == test_label\n",
        "        all_correct_num += np.sum(current_correct_num.to('cpu').numpy(), axis=-1)\n",
        "        all_sample_num += current_correct_num.shape[0]\n",
        "    acc = all_correct_num / all_sample_num\n",
        "    print('test accuracy: {:.3f}'.format(acc), flush=True)\n",
        "    if not os.path.isdir(\"models\"):\n",
        "        os.mkdir(\"models\")\n",
        "    torch.save(model, 'models/mnist_{:.3f}.pkl'.format(acc))\n",
        "    prev_acc = acc\n"
      ]
    },
    {
      "cell_type": "code",
      "execution_count": 27,
      "metadata": {
        "colab": {
          "base_uri": "https://localhost:8080/",
          "height": 422
        },
        "id": "0OXgCbSQ5xKX",
        "outputId": "020528d8-e0cb-4d75-a783-6c7e4850cfec"
      },
      "outputs": [
        {
          "output_type": "stream",
          "name": "stdout",
          "text": [
            "tensor(1.4378e-07, grad_fn=<MinBackward1>)\n"
          ]
        },
        {
          "output_type": "execute_result",
          "data": {
            "text/plain": [
              "Text(0.5, 1.0, 'Absolute value of parameters')"
            ]
          },
          "metadata": {},
          "execution_count": 27
        },
        {
          "output_type": "display_data",
          "data": {
            "text/plain": [
              "<Figure size 600x400 with 1 Axes>"
            ],
            "image/png": "[encoded data removed]"
          },
          "metadata": {}
        }
      ],
      "source": [
        "import matplotlib.pyplot as plt\n",
        "import numpy as np\n",
        "from matplotlib import colors\n",
        "from scipy import stats\n",
        "n_bins = 100\n",
        "# whats the smallest parameter in this model ?\n",
        "minimum_abs_val = 100000\n",
        "params_abs = []\n",
        "for param in model.parameters():\n",
        "  if param.abs().min() < minimum_abs_val:\n",
        "    minimum_abs_val = param.abs().min()\n",
        "  params_abs.extend(param.abs().detach().numpy().flatten().tolist())\n",
        "\n",
        "print(minimum_abs_val)\n",
        "\n",
        "xx = np.linspace(0, 0.2, 1000)\n",
        "\n",
        "kde = stats.gaussian_kde(params_abs)\n",
        "fig, ax = plt.subplots(figsize = (6,4))\n",
        "\n",
        "ax.set_xlim(0, 0.2)\n",
        "\n",
        "# N is the count in each bin, bins is the lower-limit of the bin\n",
        "N, bins, patches = ax.hist(params_abs, bins=n_bins, density = True, alpha =0.65)\n",
        "ax.plot(xx, kde(xx))\n",
        "\n",
        "\n",
        "ax.set_ylim(0, 14)\n",
        "ax.set_yticklabels([])\n",
        "ax.set_ylabel(\"\")\n",
        "plt.style.use(\"bmh\")\n",
        "ax.set_xticks([1.0/128.0, 1.0/32.0, 1.0/16.0])\n",
        "ax.set_xticklabels([\"1/2^7\", \"1/2^6\", \"1/2^5\"])\n",
        "ax.grid(False)\n",
        "# Calculate percentiles\n",
        "quant_5, quant_25, quant_50, quant_75, quant_95 = np.quantile(params_abs, 0.05), np.quantile(params_abs, 0.25), np.quantile(params_abs, 0.5), np.quantile(params_abs, 0.75), np.quantile(params_abs, 0.95)\n",
        "\n",
        "# [quantile, opacity, length]\n",
        "quants = [[quant_5, 0.6, 0.16], [quant_25, 0.8, 0.26], [quant_50, 1, 0.36],  [quant_75, 0.8, 0.46], [quant_95, 0.6, 0.56]]\n",
        "\n",
        "# Plot the lines with a loop\n",
        "for i in quants:\n",
        "    ax.axvline(i[0], alpha = i[1], ymax = i[2], linestyle = \":\")\n",
        "\n",
        "# Annotations\n",
        "ax.text(quant_5, 14 * 0.17, \"5th\", size = 10, alpha = 0.8)\n",
        "ax.text(quant_25, 14 * 0.27, \"25th\", size = 10, alpha = 0.85)\n",
        "ax.text(quant_50, 14 * 0.37, \"50th\", size = 10, alpha = 1)\n",
        "ax.text(quant_75, 14 * 0.47, \"75th\", size = 10, alpha = 0.85)\n",
        "ax.text(quant_95, 14 * 0.57, \"95th Percentile\", size = 10, alpha =.8)\n",
        "\n",
        "ax.set_title(\"Absolute value of parameters\")"
      ]
    },
    {
      "cell_type": "code",
      "execution_count": 28,
      "metadata": {
        "id": "tmGo25eb0rZ3"
      },
      "outputs": [],
      "source": [
        "import os\n",
        "\n",
        "model_path = os.path.join('network_lenet.onnx')\n",
        "compiled_model_path = os.path.join('network.compiled')\n",
        "pk_path = os.path.join('key.pk')\n",
        "vk_path = os.path.join('key.vk')\n",
        "settings_path = os.path.join('settings.json')\n",
        "witness_path = os.path.join('witness.json')\n",
        "data_path = os.path.join('input.json')"
      ]
    },
    {
      "cell_type": "code",
      "execution_count": 31,
      "metadata": {
        "id": "RfFjaXrM0rZ3",
        "colab": {
          "base_uri": "https://localhost:8080/"
        },
        "outputId": "3b918ade-5117-448b-8d6b-42ba6e50d96b"
      },
      "outputs": [
        {
          "output_type": "stream",
          "name": "stdout",
          "text": [
            "Model exported to network_lenet.onnx and input data saved to input.json\n"
          ]
        }
      ],
      "source": [
        "import torch\n",
        "import json\n",
        "\n",
        "model.eval()  # Set the model to evaluation mode\n",
        "\n",
        "# # Fetch a single data point from the train_dataset\n",
        "# # Ensure train_dataset is already loaded and accessible\n",
        "train_data_point, _ = next(iter(train_dataset))\n",
        "train_data_point = train_data_point.unsqueeze(0)  # Add a batch dimension\n",
        "\n",
        "# Verify the device (CPU or CUDA) and transfer the data point to the same device as the model\n",
        "device = 'cuda' if torch.cuda.is_available() else 'cpu'\n",
        "train_data_point = train_data_point.to(device)\n",
        "\n",
        "# # Export the model to ONNX format\n",
        "torch.onnx.export(model, train_data_point, model_path, export_params=True, opset_version=12, do_constant_folding=True, input_names=['input_0'], output_names=['output'])\n",
        "\n",
        "# Convert the tensor to numpy array and reshape it for JSON serialization\n",
        "x = train_data_point.cpu().detach().numpy().reshape([-1]).tolist()\n",
        "data = {'input_data': [x]}\n",
        "with open('input.json', 'w') as f:\n",
        "    json.dump(data, f)\n",
        "\n",
        "print(f\"Model exported to {model_path} and input data saved to input.json\")"
      ]
    },
    {
      "cell_type": "code",
      "execution_count": 32,
      "metadata": {
        "id": "dS-yXte30rZ3",
        "colab": {
          "base_uri": "https://localhost:8080/",
          "height": 436
        },
        "outputId": "86a95ac5-7781-487c-c0b2-29a253b32a31"
      },
      "outputs": [
        {
          "output_type": "stream",
          "name": "stderr",
          "text": [
            "INFO:ezkl.execute:num calibration batches: 8\n",
            "WARNING:ezkl.circuit.table:Using 4 columns for non-linearity table.\n",
            "WARNING:ezkl.circuit.table:Using 7 columns for non-linearity table.\n",
            "WARNING:ezkl.execute:\n",
            "\n",
            " <------------- Numerical Fidelity Report (input_scale: 2, param_scale: 2, scale_input_multiplier: 10) ------------->\n",
            "\n",
            "+------------+--------------+-----------+-----------+----------------+------------------+---------------+---------------+--------------------+--------------------+------------------------+\n",
            "| mean_error | median_error | max_error | min_error | mean_abs_error | median_abs_error | max_abs_error | min_abs_error | mean_squared_error | mean_percent_error | mean_abs_percent_error |\n",
            "+------------+--------------+-----------+-----------+----------------+------------------+---------------+---------------+--------------------+--------------------+------------------------+\n",
            "| -3.457798  | -8.4758625   | 18.228142 | -21.47031 | 6.379722       | 8.4758625        | 21.47031      | 0.092021465   | 62.049644          | 1.1053317          | 1.2456945              |\n",
            "+------------+--------------+-----------+-----------+----------------+------------------+---------------+---------------+--------------------+--------------------+------------------------+\n",
            "\n",
            "\n"
          ]
        },
        {
          "output_type": "error",
          "ename": "CancelledError",
          "evalue": "",
          "traceback": [
            "\u001b[0;31m---------------------------------------------------------------------------\u001b[0m",
            "\u001b[0;31mCancelledError\u001b[0m                            Traceback (most recent call last)",
            "\u001b[0;32m<ipython-input-32-b7b719bbf12e>\u001b[0m in \u001b[0;36m<cell line: 41>\u001b[0;34m()\u001b[0m\n\u001b[1;32m     39\u001b[0m \u001b[0;32massert\u001b[0m \u001b[0mres\u001b[0m \u001b[0;34m==\u001b[0m \u001b[0;32mTrue\u001b[0m\u001b[0;34m\u001b[0m\u001b[0;34m\u001b[0m\u001b[0m\n\u001b[1;32m     40\u001b[0m \u001b[0;34m\u001b[0m\u001b[0m\n\u001b[0;32m---> 41\u001b[0;31m \u001b[0mres\u001b[0m \u001b[0;34m=\u001b[0m \u001b[0;32mawait\u001b[0m \u001b[0mezkl\u001b[0m\u001b[0;34m.\u001b[0m\u001b[0mcalibrate_settings\u001b[0m\u001b[0;34m(\u001b[0m\u001b[0mcal_path\u001b[0m\u001b[0;34m,\u001b[0m \u001b[0mmodel_path\u001b[0m\u001b[0;34m,\u001b[0m \u001b[0msettings_path\u001b[0m\u001b[0;34m,\u001b[0m \u001b[0;34m\"resources\"\u001b[0m\u001b[0;34m,\u001b[0m \u001b[0mscales\u001b[0m\u001b[0;34m=\u001b[0m\u001b[0;34m[\u001b[0m\u001b[0;36m2\u001b[0m\u001b[0;34m,\u001b[0m\u001b[0;36m7\u001b[0m\u001b[0;34m]\u001b[0m\u001b[0;34m)\u001b[0m\u001b[0;34m\u001b[0m\u001b[0;34m\u001b[0m\u001b[0m\n\u001b[0m\u001b[1;32m     42\u001b[0m \u001b[0;32massert\u001b[0m \u001b[0mres\u001b[0m \u001b[0;34m==\u001b[0m \u001b[0;32mTrue\u001b[0m\u001b[0;34m\u001b[0m\u001b[0;34m\u001b[0m\u001b[0m\n",
            "\u001b[0;31mCancelledError\u001b[0m: "
          ]
        }
      ],
      "source": [
        "import ezkl\n",
        "\n",
        "run_args = ezkl.PyRunArgs()\n",
        "run_args.input_visibility = \"private\"\n",
        "run_args.param_visibility = \"fixed\"\n",
        "run_args.output_visibility = \"public\"\n",
        "run_args.num_inner_cols = 2\n",
        "run_args.variables = [(\"batch_size\", 1)]\n",
        "\n",
        "# Capture set of data points\n",
        "num_data_points = 8\n",
        "\n",
        "# Fetch 30 data points from the train_dataset\n",
        "data_points = []\n",
        "for i, (data_point, _) in enumerate(train_dataset):\n",
        "    if i >= num_data_points:\n",
        "        break\n",
        "    data_points.append(data_point)\n",
        "\n",
        "# Stack the data points to create a batch\n",
        "train_data_batch = torch.stack(data_points)\n",
        "\n",
        "# Add a batch dimension if not already present\n",
        "if train_data_batch.dim() == 3:\n",
        "    train_data_batch = train_data_batch.unsqueeze(0)\n",
        "\n",
        "x = train_data_batch.cpu().detach().numpy().reshape([-1]).tolist()\n",
        "\n",
        "data = dict(input_data = [x])\n",
        "\n",
        "cal_path = os.path.join('cal_data.json')\n",
        "\n",
        "# Serialize data into file:\n",
        "json.dump( data, open(cal_path, 'w' ))\n",
        "\n",
        "!RUST_LOG=trace\n",
        "# TODO: Dictionary outputs\n",
        "res = ezkl.gen_settings(model_path, settings_path, py_run_args=run_args)\n",
        "assert res == True\n",
        "\n",
        "res = await ezkl.calibrate_settings(cal_path, model_path, settings_path, \"resources\", scales=[2,7])\n",
        "assert res == True"
      ]
    },
    {
      "cell_type": "code",
      "execution_count": 14,
      "metadata": {
        "id": "pGb1nj720rZ3"
      },
      "outputs": [],
      "source": [
        "res = ezkl.compile_circuit(model_path, compiled_model_path, settings_path)\n",
        "assert res == True"
      ]
    },
    {
      "cell_type": "code",
      "execution_count": 15,
      "metadata": {
        "id": "umpLxVAI0rZ3",
        "colab": {
          "base_uri": "https://localhost:8080/"
        },
        "outputId": "9fcd05d1-3fc9-4a58-f7b6-0620748540d6"
      },
      "outputs": [
        {
          "output_type": "stream",
          "name": "stderr",
          "text": [
            "INFO:ezkl.execute:SRS does not exist, downloading...\n",
            "INFO:ezkl.execute:Saving SRS to disk...\n",
            "INFO:ezkl.execute:Saved SRS to disk.\n",
            "INFO:ezkl.execute:SRS downloaded\n",
            "INFO:ezkl.execute:read 4194564 bytes from file (vector of len = 4194564)\n",
            "INFO:ezkl.execute:file hash: 90807800a1c3b248a452e1732c45ee5099f38b737356f5542c0584ec9c3ebb45\n"
          ]
        }
      ],
      "source": [
        "# srs path\n",
        "res = await ezkl.get_srs(settings_path)"
      ]
    },
    {
      "cell_type": "code",
      "execution_count": 16,
      "metadata": {
        "id": "syLy2Kt90rZ3"
      },
      "outputs": [],
      "source": [
        "# now generate the witness file\n",
        "witness_path = \"witness.json\"\n",
        "\n",
        "res = await ezkl.gen_witness(data_path, compiled_model_path, witness_path)\n",
        "assert os.path.isfile(witness_path)"
      ]
    },
    {
      "cell_type": "code",
      "execution_count": 17,
      "metadata": {
        "id": "65u_ObBQ0rZ4",
        "colab": {
          "base_uri": "https://localhost:8080/"
        },
        "outputId": "8ec73cd9-439d-4754-fb7c-69742f88a7fa"
      },
      "outputs": [
        {
          "output_type": "stream",
          "name": "stderr",
          "text": [
            "INFO:ezkl.execute:Mock proof\n",
            "INFO:ezkl.graph.model:model layout...\n",
            "INFO:ezkl.circuit.table:Generating range check table and saving to cache: \"/root/.ezkl/cache/rangecheck_-1_1\"\n",
            "INFO:ezkl.circuit.table:Generating range check table and saving to cache: \"/root/.ezkl/cache/rangecheck_0_16383\"\n"
          ]
        }
      ],
      "source": [
        "res = ezkl.mock(witness_path, compiled_model_path)\n",
        "assert res == True"
      ]
    },
    {
      "cell_type": "code",
      "execution_count": 18,
      "metadata": {
        "id": "c8GIoMD40rZ4",
        "colab": {
          "base_uri": "https://localhost:8080/"
        },
        "outputId": "4bffba11-accb-4a56-f578-03d493530d76"
      },
      "outputs": [
        {
          "output_type": "stream",
          "name": "stderr",
          "text": [
            "INFO:ezkl.graph.model:model layout...\n",
            "INFO:ezkl.circuit.table:Loading range check table from cache: \"/root/.ezkl/cache/rangecheck_-1_1\"\n",
            "INFO:ezkl.circuit.table:Loading range check table from cache: \"/root/.ezkl/cache/rangecheck_0_16383\"\n",
            "INFO:ezkl.pfsys:VK took 4.500\n",
            "INFO:ezkl.graph.model:model layout...\n",
            "INFO:ezkl.circuit.table:Loading range check table from cache: \"/root/.ezkl/cache/rangecheck_-1_1\"\n",
            "INFO:ezkl.circuit.table:Loading range check table from cache: \"/root/.ezkl/cache/rangecheck_0_16383\"\n",
            "INFO:ezkl.pfsys:PK took 4.421\n",
            "INFO:ezkl.pfsys:done saving verification key ✅\n",
            "INFO:ezkl.pfsys:done saving proving key ✅\n"
          ]
        }
      ],
      "source": [
        "\n",
        "# HERE WE SETUP THE CIRCUIT PARAMS\n",
        "# WE GOT KEYS\n",
        "# WE GOT CIRCUIT PARAMETERS\n",
        "# EVERYTHING ANYONE HAS EVER NEEDED FOR ZK\n",
        "\n",
        "res = ezkl.setup(\n",
        "        compiled_model_path,\n",
        "        vk_path,\n",
        "        pk_path,\n",
        "    )\n",
        "\n",
        "assert res == True\n",
        "assert os.path.isfile(vk_path)\n",
        "assert os.path.isfile(pk_path)\n",
        "assert os.path.isfile(settings_path)"
      ]
    },
    {
      "cell_type": "code",
      "execution_count": 19,
      "metadata": {
        "id": "vkIutAhR0rZ4",
        "colab": {
          "base_uri": "https://localhost:8080/"
        },
        "outputId": "19ef7652-37e9-4d48-b5f9-ff76bb21a989"
      },
      "outputs": [
        {
          "output_type": "stream",
          "name": "stderr",
          "text": [
            "INFO:ezkl.pfsys:loaded proving key ✅\n",
            "INFO:ezkl.pfsys:proof started...\n",
            "INFO:ezkl.graph.model:model layout...\n",
            "INFO:ezkl.circuit.table:Loading range check table from cache: \"/root/.ezkl/cache/rangecheck_-1_1\"\n",
            "INFO:ezkl.circuit.table:Loading range check table from cache: \"/root/.ezkl/cache/rangecheck_0_16383\"\n",
            "INFO:ezkl.pfsys:proof took 12.589\n"
          ]
        },
        {
          "output_type": "stream",
          "name": "stdout",
          "text": [
            "{'instances': [['caffffef93f5e1439170b97948e833285d588181b64550b829a031e1724e6430', '98ffffef93f5e1439170b97948e833285d588181b64550b829a031e1724e6430', 'c1ffffef93f5e1439170b97948e833285d588181b64550b829a031e1724e6430', 'beffffef93f5e1439170b97948e833285d588181b64550b829a031e1724e6430', 'e0feffef93f5e1439170b97948e833285d588181b64550b829a031e1724e6430', '4600000000000000000000000000000000000000000000000000000000000000', 'caffffef93f5e1439170b97948e833285d588181b64550b829a031e1724e6430', 'c7ffffef93f5e1439170b97948e833285d588181b64550b829a031e1724e6430', '4effffef93f5e1439170b97948e833285d588181b64550b829a031e1724e6430', 'ceffffef93f5e1439170b97948e833285d588181b64550b829a031e1724e6430']], 'proof': '0x02f43b8c0b263437cc468de61a1e6002db18b5f4d46d7e0b1876dc6255e83a57228b1530b18a088c8c5fa3fd6c665f0da63b8b8b2430492b86c176b44d4e45d6289a91743360af9ffb52834752830f79575099e013bdc2b0956359c8dc62516a0af5a051f60620a615dae188361064e345aa43bfb684285552cc43c9fea5fb6a236d800a48d17e961dd8eee01bedc3f3be3d144b86280c5bc444b9e437bacd671e4978c90af92c0d08058552ff333bf301514c57167d1908e900c919e4161aa90ac8987580a12ce400b993aed69f8daf02c6e6f2d09cae4beb333cfcf26c5a701078cd6e9382eeaea4fbf55e24b0b15b107d887b4fd46a3fc401d845ee015eb21ba15b4f106770c0cd0f1892d7ef9fa4fa63ffc44d088d8ac86219ce4fee6bdf17f7525bb073a562c166f954794aa215893962fa82dc328f78ee67495849920b1092e2befd1eb37a5723c9a5095de1b7bbd6b1a629ed624f6258c49d820a58c418d4ee20ec98d365de574b992de000afaffcd350dd4c0f2f0391c4756207b1e100577c5dc7510b687fd03b40c8718ca1b8a1330daa170d56349c5a79de6d10f90593096b71407e34ff579ee7b86792ea873f58f24933247328a34c3e0d1f91182b23d5f047a16af239e098e2a1874d6582757f4ac25d9212881638ef0121895d090556fec27d035ac60abaa30f2c405e8549766212080958fc6a92250756de24205de27789df2c34f68d5e7a5eba2cb6f1a81f9629ab4b8ba53e74a4afbdfdb309051cdedfc07b4d06c020beb435718a14a8e0c85b96638bffa8b8e94effa7d61d78d62dc65e14d42c50e5696bd56cbc17ba27d1aaf85cde186ee08ea0bfacc31243b9573f8ca98f3029c48aaea391b2b554f65533309f1cdc9eccfb4cd243c714aeae352e185ef216e875a19b47b06e48d93a793e52a5ae5db0b194d95dbb6c2cd2258443aa1403751b2f213afb943782c515ce7e7d3ca2cb94c3964f0c0a4e05b32712dc8b12febb170c20bed2b55290d8123b6a8210ef011855322e88499626189dccd416b073e6043bcacdc2fe2add2d76bc2892af98df3c8940725464212fae19df2e271a15921385a7988eb63b98bf0154a5d41b99cd79c6966dfb5c1f1f11d7676aeeb561a1554c42c3dbeb7b55760e0a3fd6224371c68e6a8804d06206e6d864e0c108ee448e14a9973083dba1d745514d1bf811dc9af358791b498e21a98b89bb398632627a06a202402de3fdbe39c98018a248fc56133701f095050c1623f7f250209aadf220abdf9e9e09f460172178dcb8f083d0294a28990c9d026bf2ed00e631b0deb23a0869ca0183a75ece0e213a65732e8257e56095d8171eaa4c2bb5ca8b3e39458e7118aa932c4fd5beccf6f69226a6f99dd065c6174c20f7deb34fba3db7bd5df38862e7c07b710ebce42774316cd5db6f978f000a060e93ecbfe041a1a0cc23bec1cf7201102303f59585b02f0000b39f691f426338254e912091bf9f025ae5f1735eaee53fa0868920adcc8127e8b1269d849f98aa1d015918d991ace2e2a50c4749f5a9953d00799bf1320b39a2510af46cd445800917a64f39a8afc32fe1452834914567e41cc42049d65d756444e978823733f009dd635653ea19a95600c39454483e408b06493b8491264fd20848e04685246e20b95b11c126df4f4f12217820cbbf36119b05f82431b76f462ae53269060e9711bffe7fa75338e01c01b1c29661ac8c7976b399b82d43df0d576ba31ef830d92c3c49c45831c68abf38fe74aad0ba9a89106cfcd5eeed39f25978605f8df09109ff8080193943f388f16efd5bbb145e6936e906853329dcca1020abcf85e09c17d139a2a669ecc21c1fa2bc69864638699268467cfea1f62cb58cc6cdb883b829d5fb272c3d6856a223f4254e3734622219cc2f5784f94e812aab1446b1975e06ef4ba9fdc56f1f3bb831dcd9f98af93db28ee84820f4a9999d934c135a687508716c054dbee5340e7585760e7876f4edad3a38b57cf8b69906ef25a3f3c77a07ee890d35d3b28229a7412f9313fa17aa3617942af6818776d01c039b4203640dda7938a3eaf833427c3e1331f87e794e70c982a58f8f644f093934932a2e880b39bdcd088148388071389514a6395ca97bfdcab30fa328fcff4eb3b813241f2b38f2f096325cd920ee31fc9dbb09863d5cebc51bfcc636d92a261a60512de6289a8248de4f7d2c3c44d364b7b32cf62024a4e6b11cf1f5828f7d50544ad44f15c97db8658ab842cc53759f20ce9a94d7027e20d5abe2d3bc29c218d09b84a00ea79a165bee4aca38e2650a0a24c205a51bd470aacfab69ac228017d07ad6db1981a852b0a75466f6f73cf7b019b848319f172594e99d01c5586bd6cf3c5d00170beee2b490ef08c7e11032ba726a4568f710c45a8748e6fc076c4e97a7adf9136e2b0435365e20d562d91dcae39e47538f3c29674b8094308cff012897370b1a10c9cb3830fbc18fe47aacffbb9e996ff17f44bdbbc83a1d39b2228e1840591f6f742827461db79a0bf7dba43aac52d2b2e6d6a454810bddb0b7e7eac78d0029658dfba229afcba338f8feb06d1fe675e0823ae51c20f19d572dcd7ddaaf9e281971767f6d9eabd669dcc197d05b9d1326f7520592c6594e69d2cac74e91ad08d44ca7eb5877a7c6050f47699636db1cef0093bc83161eee6a29209e7d03eb13f517b22104e5787f8cdaca2ed3b2d811304aca576c26899b504519c382d09f2bcf9fc53fef3d121ffd82255372c6c3aad8032d6830df7cb07916f618912b40000000000000000000000000000000000000000000000000000000000000000018331dcaae717aafee2473ea414a3742303115b799bff496105e4ded062c6bd319a41ece1ea1f276bcb1bb48173afdb186899c9f337710148aa6076720ba297e2de77887712416799f6b275e46e46c5b15039dd39b8a78a660b6057844132017284e01b819bd77eb4d3ea969580f3545f83e2442f84d7dcc7900390b597bd9b123f4066bc426e50dae210a0f80a78cb7a698be1a56dc0dc1db9d396a3b19c7e105a7d1aea3e8dacdafe4ade3658692b856541140168106ff06b7192c7466f9cc1656b769389575e7f04b8072a9a9cf6c6f6607d2d3f114eeb60dfeb9275b270510bbcefbadebf162613c54eb6dfb6b23e94723db01e177c052197ddf8d25452806bddea0848d062e6bd667397638f9feb475986d4eeb2051dad8eacd3908a9f7289e4602e826a434dd3a41970d5688c7d4a41e24cde66bd35155aa6c9c1a15761a57ba5fc55111b4b52abf8ad9617f262683997d30285c1e865f7035ca46544c20fd6aec8de8099a4cbee64c0d551424b40c0ee122c1340034cbd16f65a920da1333fa362a1cca917b61471f330c058933713e4b2e38b3ee0ff5d6f53a29008620c3471a0db5d728a4737c660dfb45d13592ce15c0db4da6622b1f6b88623c5e0ba47ab2ceda8ba208fe7fc2a8458166644e70f934c244996fb531b5d1d3cc961db7b588349cd9d206bbf4e3c9d1514d426b3459ecff6188ef9a3c0eab965c762997b39438b4da703f90fd3a2e8255555d0a45bf7c03b1a26e506bcba304f6c70d6cd83566fe04c38b5a4115dc631ef4902f7a298f5bd5e29de3eb18faace00b0d4bb08f3acfbaa4cc0ff3b97c1defaeb46a43ecb76633c2fa988e0ed1755f800b40c78c663c54057c2f62b0ea3bfc2546e4f898b92776017e06e5c2ddad36c32169c68585dcc730a82b7289318b82899dd2056e11113772e7763bfc52feb9c9053ac340cdcc4d7f1a1c415096d2ff922dd11df7f26c536dc28d3a0ace0296be0d06e62223d50caa22c582e6800bc68fe0d52cba6c98bbbcaa463743bdce93d42670243e20e65513ca7210434d049a7634d27ceae3f4196a8e9516dc5338bb6a0ac1df5a3c34be6a711869aa26b31e046fb1816a669a891c4e2e2cbe047926921b192da1dff422b2f92aaaa142bfad8454ebe21da8507ad6a60f51d3a29711bd0a980e7fb250118888633c7f4c8f63b2db062d7e85ca342941cc5a427436bf532b8cffa9d0d0b1ece53c7e924e7664066c895460b6d5d6f41a95dd71449dc80f268dcebb249af90ceea9f0a766f83fa82acc23cee5ef1c351d7211f982c8ec2b205c387d51cae5359c21e3f6db75d7753c6dcf42ccae82abcba1b755a96867361729b551b5f2a144ed3f5575c9b2014a29ad6550c3b6865452a0269e41a7d86310e789b1872662a08d574207063e73405bc1f62c2ec0173061f43ae652b979e9122a1a5f2ec1e38d16c58cd039c06dae370fcd2f3c77acfbe331f56ad2022561', 'transcript_type': 'EVM'}\n"
          ]
        }
      ],
      "source": [
        "# GENERATE A PROOF\n",
        "\n",
        "\n",
        "proof_path = os.path.join('test.pf')\n",
        "\n",
        "res = ezkl.prove(\n",
        "        witness_path,\n",
        "        compiled_model_path,\n",
        "        pk_path,\n",
        "        proof_path,\n",
        "        \"single\",\n",
        "    )\n",
        "\n",
        "print(res)\n",
        "assert os.path.isfile(proof_path)"
      ]
    },
    {
      "cell_type": "code",
      "execution_count": 20,
      "metadata": {
        "id": "KmpQBZUT0rZ4",
        "colab": {
          "base_uri": "https://localhost:8080/"
        },
        "outputId": "ca00c48f-e172-42d1-80d7-7435ac2f5366"
      },
      "outputs": [
        {
          "output_type": "stream",
          "name": "stderr",
          "text": [
            "INFO:ezkl.pfsys:loaded verification key ✅\n",
            "INFO:ezkl.execute:verify took 0.12\n",
            "INFO:ezkl.execute:verified: true\n"
          ]
        },
        {
          "output_type": "stream",
          "name": "stdout",
          "text": [
            "verified\n"
          ]
        }
      ],
      "source": [
        "# VERIFY IT\n",
        "res = ezkl.verify(\n",
        "        proof_path,\n",
        "        settings_path,\n",
        "        vk_path,\n",
        "    )\n",
        "\n",
        "assert res == True\n",
        "print(\"verified\")"
      ]
    },
    {
      "cell_type": "markdown",
      "metadata": {
        "id": "CZ2CYQdm0rZ4"
      },
      "source": [
        "We can now create an EVM / `.sol` verifier that can be deployed on chain to verify submitted proofs using a view function."
      ]
    },
    {
      "cell_type": "code",
      "execution_count": null,
      "metadata": {
        "id": "jASymUWQ0rZ4"
      },
      "outputs": [],
      "source": [
        "\n",
        "abi_path = 'test.abi'\n",
        "sol_code_path = 'test_1.sol'\n",
        "\n",
        "res = await ezkl.create_evm_verifier(\n",
        "        vk_path,\n",
        "        settings_path,\n",
        "        sol_code_path,\n",
        "        abi_path,\n",
        "    )\n",
        "assert res == True"
      ]
    },
    {
      "cell_type": "markdown",
      "metadata": {
        "id": "-icN2yw60rZ5"
      },
      "source": [
        "## Verify on the evm"
      ]
    },
    {
      "cell_type": "code",
      "execution_count": null,
      "metadata": {
        "id": "sTLsLwaC0rZ5"
      },
      "outputs": [],
      "source": [
        "# Make sure anvil is running locally first\n",
        "# run with $ anvil -p 3030\n",
        "# we use the default anvil node here\n",
        "import json\n",
        "\n",
        "address_path = os.path.join(\"address.json\")\n",
        "\n",
        "res = await ezkl.deploy_evm(\n",
        "    address_path,\n",
        "    sol_code_path,\n",
        "    'http://127.0.0.1:3030'\n",
        ")\n",
        "\n",
        "assert res == True\n",
        "\n",
        "with open(address_path, 'r') as file:\n",
        "    addr = file.read().rstrip()"
      ]
    },
    {
      "cell_type": "code",
      "execution_count": null,
      "metadata": {
        "id": "PrSyQK4B0rZ5"
      },
      "outputs": [],
      "source": [
        "# make sure anvil is running locally\n",
        "# $ anvil -p 3030\n",
        "\n",
        "res = await ezkl.verify_evm(\n",
        "    addr,\n",
        "    proof_path,\n",
        "    \"http://127.0.0.1:3030\"\n",
        ")\n",
        "assert res == True"
      ]
    }
  ],
  "metadata": {
    "colab": {
      "provenance": [],
      "toc_visible": true
    },
    "kernelspec": {
      "display_name": "Python 3",
      "language": "python",
      "name": "python3"
    },
    "language_info": {
      "codemirror_mode": {
        "name": "ipython",
        "version": 3
      },
      "file_extension": ".py",
      "mimetype": "text/x-python",
      "name": "python",
      "nbconvert_exporter": "python",
      "pygments_lexer": "ipython3",
      "version": "3.9.15"
    }
  },
  "nbformat": 4,
  "nbformat_minor": 0
}