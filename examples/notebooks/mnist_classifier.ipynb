{
  "cells": [
    {
      "cell_type": "markdown",
      "metadata": {
        "id": "6ypZa6jg0rZy"
      },
      "source": [
        "## Mnist Clan-ssifier ;)\n",
        "\n",
        "Here we demonstrate how to use the EZKL package to build an MNIST classifier for on-chain handrawn digit recognition.\n",
        "The proofs get submitted to a contract that assigns the users account to a digit clan (0-9). The contract keeps track of the member count of each clan. The clan with the most members is the winner!\n",
        "\n",
        "![zk-gaming-diagram-transformed](https://file.notion.so/f/f/f9535faf-4480-4499-9059-a48ba240eaa9/cd13414a-ecd8-4b8f-90a1-8a2311baa278/Untitled.png?id=365d66ee-e653-4ec3-8eb6-6d2b6306455a&table=block&spaceId=f9535faf-4480-4499-9059-a48ba240eaa9&expirationTimestamp=1701568800000&signature=VJ9p3YsOjYjeLxmkVEWOJw_3VmM6IBkTYxMwQUFKeus&downloadName=Untitled.png)\n",
        "> **A typical ZK application flow**. For all the image classifictiton hackers out there — this is an fairly straight forward example. A user computes a ZKML-proof that they have calculated a valid classification of a hand drawn digit from a MNIST trained lenet model. They submit this proof to a verifier contract which governs a set of clans, along with the output values of the model (length 10 tensor whereby the index with the max value represented the prediction), and the clan count updates according the lenets model's prediction."
      ]
    },
    {
      "cell_type": "code",
      "execution_count": 2,
      "metadata": {
        "id": "Fm2DMmXW0rZ0",
        "colab": {
          "base_uri": "https://localhost:8080/"
        },
        "outputId": "26101425-3e34-4274-883e-a8be3494e8a7"
      },
      "outputs": [
        {
          "output_type": "stream",
          "name": "stdout",
          "text": [
            "CUDA Available: False\n",
            "Using device: cpu\n",
            "CPU Information:\n",
            "model name\t: Intel(R) Xeon(R) CPU @ 2.20GHz\n",
            "model name\t: Intel(R) Xeon(R) CPU @ 2.20GHz\n",
            "\n",
            "Memory Information:\n",
            "MemTotal:       13290460 kB\n",
            "\n",
            "Disk Space Information:\n",
            "Filesystem      Size  Used Avail Use% Mounted on\n",
            "overlay         108G   33G   75G  31% /\n",
            "tmpfs            64M     0   64M   0% /dev\n",
            "shm             5.8G     0  5.8G   0% /dev/shm\n",
            "/dev/root       2.0G  1.2G  820M  59% /usr/sbin/docker-init\n",
            "tmpfs           6.4G  388K  6.4G   1% /var/colab\n",
            "/dev/sda1        77G   58G   20G  75% /etc/hosts\n",
            "tmpfs           6.4G     0  6.4G   0% /proc/acpi\n",
            "tmpfs           6.4G     0  6.4G   0% /proc/scsi\n",
            "tmpfs           6.4G     0  6.4G   0% /sys/firmware\n"
          ]
        }
      ],
      "source": [
        "# check if notebook is in colab\n",
        "try:\n",
        "    # install ezkl\n",
        "    import google.colab\n",
        "    import subprocess\n",
        "    import sys\n",
        "    subprocess.check_call([sys.executable, \"-m\", \"pip\", \"install\", \"ezkl\"])\n",
        "    subprocess.check_call([sys.executable, \"-m\", \"pip\", \"install\", \"torch\"])\n",
        "    subprocess.check_call([sys.executable, \"-m\", \"pip\", \"install\", \"torchvision\"])\n",
        "    subprocess.check_call([sys.executable, \"-m\", \"pip\", \"install\", \"tf2onnx\"])\n",
        "    subprocess.check_call([sys.executable, \"-m\", \"pip\", \"install\", \"onnx\"])\n",
        "\n",
        "# rely on local installation of ezkl if the notebook is not in colab\n",
        "except:\n",
        "    pass\n",
        "\n",
        "# make sure you have the dependencies required here already installed\n",
        "import ezkl\n",
        "import os\n",
        "import json\n",
        "import time\n",
        "import random\n",
        "import logging\n",
        "import torch\n",
        "\n",
        "# Check if CUDA is available\n",
        "cuda_available = torch.cuda.is_available()\n",
        "print(\"CUDA Available:\", cuda_available)\n",
        "\n",
        "# Set device to GPU if available, else CPU\n",
        "device = torch.device('cuda' if cuda_available else 'cpu')\n",
        "print('Using device:', device)\n",
        "\n",
        "# Display CPU information\n",
        "print(\"CPU Information:\")\n",
        "!cat /proc/cpuinfo | grep \"model name\"\n",
        "\n",
        "# Display memory information\n",
        "print(\"\\nMemory Information:\")\n",
        "!cat /proc/meminfo | grep \"MemTotal\"\n",
        "\n",
        "# Display disk space information\n",
        "print(\"\\nDisk Space Information:\")\n",
        "!df -h\n",
        "\n",
        "# Get GPU name and memory info if using GPU\n",
        "if cuda_available:\n",
        "    print(\"GPU Name:\", torch.cuda.get_device_name(0))\n",
        "    print(\"Memory Allocated:\", round(torch.cuda.memory_allocated(0) / 1024**3, 1), \"GB\")\n",
        "    print(\"Memory Cached:\", round(torch.cuda.memory_reserved(0) / 1024**3, 1), \"GB\")\n",
        "\n",
        "# uncomment for more descriptive logging\n",
        "FORMAT = '%(levelname)s %(name)s %(asctime)-15s %(filename)s:%(lineno)d %(message)s'\n",
        "logging.basicConfig(format=FORMAT)\n",
        "logging.getLogger().setLevel(logging.INFO)"
      ]
    },
    {
      "cell_type": "code",
      "execution_count": 3,
      "metadata": {
        "id": "jbRkAJLz0rZ1"
      },
      "outputs": [],
      "source": [
        "import torch\n",
        "import torch.nn as nn\n",
        "import torch.nn.functional as F\n",
        "\n",
        "class LeNet(nn.Module):\n",
        "    def __init__(self):\n",
        "        super(LeNet, self).__init__()\n",
        "        # Convolutional encoder\n",
        "        self.fc1 = nn.Linear(28 * 28, 1024)\n",
        "        self.fc2 = nn.Linear(1024, 10)\n",
        "        self.relu = nn.ReLU()\n",
        "\n",
        "    def forward(self, x):\n",
        "        # Convolutional block\n",
        "        x = x.view(x.size(0), -1)\n",
        "        x = self.fc1(x)\n",
        "        x = self.relu(x)\n",
        "        x = self.fc2(x)\n",
        "\n",
        "        return x\n"
      ]
    },
    {
      "cell_type": "code",
      "execution_count": 4,
      "metadata": {
        "colab": {
          "base_uri": "https://localhost:8080/"
        },
        "id": "8yYNrvus0rZ2",
        "outputId": "bd7edcd9-6b7b-4411-a7c9-8a8437172d60"
      },
      "outputs": [
        {
          "output_type": "stream",
          "name": "stdout",
          "text": [
            "test accuracy: 0.947\n",
            "test accuracy: 0.965\n",
            "test accuracy: 0.970\n",
            "test accuracy: 0.971\n",
            "test accuracy: 0.971\n",
            "test accuracy: 0.972\n",
            "test accuracy: 0.972\n",
            "test accuracy: 0.974\n",
            "test accuracy: 0.978\n",
            "test accuracy: 0.977\n"
          ]
        }
      ],
      "source": [
        "import numpy as np\n",
        "import os\n",
        "import torch\n",
        "from torchvision.datasets import mnist\n",
        "from torch.nn import CrossEntropyLoss\n",
        "from torch.optim import Adam  # Import Adam\n",
        "from torch.utils.data import DataLoader\n",
        "from torchvision.transforms import ToTensor\n",
        "\n",
        "def normalize_img(image, label):\n",
        "  return torch.round(image), label\n",
        "\n",
        "device = 'cuda' if torch.cuda.is_available() else 'cpu'\n",
        "batch_size = 256\n",
        "train_dataset = mnist.MNIST(root='./train', train=True, transform=ToTensor(), download=True)\n",
        "test_dataset = mnist.MNIST(root='./test', train=False, transform=ToTensor(), download=True)\n",
        "train_loader = DataLoader(train_dataset, batch_size=batch_size)\n",
        "test_loader = DataLoader(test_dataset, batch_size=batch_size)\n",
        "model = LeNet().to(device)\n",
        "adam = Adam(model.parameters())  # Using Adam with a learning rate of 1e-3\n",
        "loss_fn = CrossEntropyLoss()\n",
        "all_epoch = 10\n",
        "prev_acc = 0\n",
        "for current_epoch in range(all_epoch):\n",
        "    model.train()\n",
        "    for idx, (train_x, train_label) in enumerate(train_loader):\n",
        "        train_x = train_x.to(device)\n",
        "        # normalize the image to 0 or 1 to reflect the inputs from the drawing board\n",
        "        train_x = train_x.round()\n",
        "        train_label = train_label.to(device)\n",
        "        adam.zero_grad()  # Use adam optimizer\n",
        "        predict_y = model(train_x.float())\n",
        "        loss = loss_fn(predict_y, train_label.long())\n",
        "        loss.backward()\n",
        "        adam.step()  # Use adam optimizer\n",
        "    all_correct_num = 0\n",
        "    all_sample_num = 0\n",
        "    model.eval()\n",
        "\n",
        "    for idx, (test_x, test_label) in enumerate(test_loader):\n",
        "        test_x = test_x.to(device)\n",
        "         # normalize the image to 0 or 1 to reflect the inputs from the drawing board\n",
        "        test_x = test_x.round()\n",
        "        test_label = test_label.to(device)\n",
        "        predict_y = model(test_x.float()).detach()\n",
        "        predict_y = torch.argmax(predict_y, dim=-1)\n",
        "        current_correct_num = predict_y == test_label\n",
        "        all_correct_num += np.sum(current_correct_num.to('cpu').numpy(), axis=-1)\n",
        "        all_sample_num += current_correct_num.shape[0]\n",
        "    acc = all_correct_num / all_sample_num\n",
        "    print('test accuracy: {:.3f}'.format(acc), flush=True)\n",
        "    if not os.path.isdir(\"models\"):\n",
        "        os.mkdir(\"models\")\n",
        "    torch.save(model, 'models/mnist_{:.3f}.pkl'.format(acc))\n",
        "    prev_acc = acc\n"
      ]
    },
    {
      "cell_type": "code",
      "execution_count": 5,
      "metadata": {
        "colab": {
          "base_uri": "https://localhost:8080/",
          "height": 427
        },
        "id": "0OXgCbSQ5xKX",
        "outputId": "9a57a915-3dd0-41cb-9516-aed78957a77a"
      },
      "outputs": [
        {
          "output_type": "stream",
          "name": "stdout",
          "text": [
            "tensor(7.1823e-08, grad_fn=<MinBackward1>)\n"
          ]
        },
        {
          "output_type": "execute_result",
          "data": {
            "text/plain": [
              "Text(0.5, 1.0, 'Absolute value of parameters')"
            ]
          },
          "metadata": {},
          "execution_count": 5
        },
        {
          "output_type": "display_data",
          "data": {
            "text/plain": [
              "<Figure size 600x400 with 1 Axes>"
            ],
            "image/png": "[encoded data removed]"
          },
          "metadata": {}
        }
      ],
      "source": [
        "import matplotlib.pyplot as plt\n",
        "import numpy as np\n",
        "from matplotlib import colors\n",
        "from scipy import stats\n",
        "n_bins = 100\n",
        "# whats the smallest parameter in this model ?\n",
        "minimum_abs_val = 100000\n",
        "params_abs = []\n",
        "for param in model.parameters():\n",
        "  if param.abs().min() < minimum_abs_val:\n",
        "    minimum_abs_val = param.abs().min()\n",
        "  params_abs.extend(param.abs().detach().numpy().flatten().tolist())\n",
        "\n",
        "print(minimum_abs_val)\n",
        "\n",
        "xx = np.linspace(0, 0.2, 1000)\n",
        "\n",
        "kde = stats.gaussian_kde(params_abs)\n",
        "fig, ax = plt.subplots(figsize = (6,4))\n",
        "\n",
        "ax.set_xlim(0, 0.2)\n",
        "\n",
        "# N is the count in each bin, bins is the lower-limit of the bin\n",
        "N, bins, patches = ax.hist(params_abs, bins=n_bins, density = True, alpha =0.65)\n",
        "ax.plot(xx, kde(xx))\n",
        "\n",
        "\n",
        "ax.set_ylim(0, 14)\n",
        "ax.set_yticklabels([])\n",
        "ax.set_ylabel(\"\")\n",
        "plt.style.use(\"bmh\")\n",
        "ax.set_xticks([1.0/128.0, 1.0/32.0, 1.0/16.0])\n",
        "ax.set_xticklabels([\"1/2^7\", \"1/2^6\", \"1/2^5\"])\n",
        "ax.grid(False)\n",
        "# Calculate percentiles\n",
        "quant_5, quant_25, quant_50, quant_75, quant_95 = np.quantile(params_abs, 0.05), np.quantile(params_abs, 0.25), np.quantile(params_abs, 0.5), np.quantile(params_abs, 0.75), np.quantile(params_abs, 0.95)\n",
        "\n",
        "# [quantile, opacity, length]\n",
        "quants = [[quant_5, 0.6, 0.16], [quant_25, 0.8, 0.26], [quant_50, 1, 0.36],  [quant_75, 0.8, 0.46], [quant_95, 0.6, 0.56]]\n",
        "\n",
        "# Plot the lines with a loop\n",
        "for i in quants:\n",
        "    ax.axvline(i[0], alpha = i[1], ymax = i[2], linestyle = \":\")\n",
        "\n",
        "# Annotations\n",
        "ax.text(quant_5, 14 * 0.17, \"5th\", size = 10, alpha = 0.8)\n",
        "ax.text(quant_25, 14 * 0.27, \"25th\", size = 10, alpha = 0.85)\n",
        "ax.text(quant_50, 14 * 0.37, \"50th\", size = 10, alpha = 1)\n",
        "ax.text(quant_75, 14 * 0.47, \"75th\", size = 10, alpha = 0.85)\n",
        "ax.text(quant_95, 14 * 0.57, \"95th Percentile\", size = 10, alpha =.8)\n",
        "\n",
        "ax.set_title(\"Absolute value of parameters\")"
      ]
    },
    {
      "cell_type": "code",
      "execution_count": 6,
      "metadata": {
        "id": "tmGo25eb0rZ3"
      },
      "outputs": [],
      "source": [
        "import os\n",
        "\n",
        "model_path = os.path.join('network_lenet.onnx')\n",
        "compiled_model_path = os.path.join('network.compiled')\n",
        "pk_path = os.path.join('key.pk')\n",
        "vk_path = os.path.join('key.vk')\n",
        "settings_path = os.path.join('settings.json')\n",
        "witness_path = os.path.join('witness.json')\n",
        "data_path = os.path.join('input.json')"
      ]
    },
    {
      "cell_type": "code",
      "execution_count": 7,
      "metadata": {
        "id": "RfFjaXrM0rZ3",
        "colab": {
          "base_uri": "https://localhost:8080/"
        },
        "outputId": "701cd807-da64-455a-dd89-ede798c92c21"
      },
      "outputs": [
        {
          "output_type": "stream",
          "name": "stdout",
          "text": [
            "Model exported to network_lenet.onnx and input data saved to input.json\n"
          ]
        }
      ],
      "source": [
        "import torch\n",
        "import json\n",
        "\n",
        "model.eval()  # Set the model to evaluation mode\n",
        "\n",
        "# # Fetch a single data point from the train_dataset\n",
        "# # Ensure train_dataset is already loaded and accessible\n",
        "train_data_point, _ = next(iter(train_dataset))\n",
        "train_data_point = train_data_point.unsqueeze(0)  # Add a batch dimension\n",
        "\n",
        "# Verify the device (CPU or CUDA) and transfer the data point to the same device as the model\n",
        "device = 'cuda' if torch.cuda.is_available() else 'cpu'\n",
        "train_data_point = train_data_point.to(device)\n",
        "\n",
        "# # Export the model to ONNX format\n",
        "torch.onnx.export(model, train_data_point, model_path, export_params=True, opset_version=12, do_constant_folding=True, input_names=['input_0'], output_names=['output'])\n",
        "\n",
        "# Convert the tensor to numpy array and reshape it for JSON serialization\n",
        "x = train_data_point.cpu().detach().numpy().reshape([-1]).tolist()\n",
        "data = {'input_data': [x]}\n",
        "with open('input.json', 'w') as f:\n",
        "    json.dump(data, f)\n",
        "\n",
        "print(f\"Model exported to {model_path} and input data saved to input.json\")"
      ]
    },
    {
      "cell_type": "code",
      "execution_count": 8,
      "metadata": {
        "id": "dS-yXte30rZ3",
        "colab": {
          "base_uri": "https://localhost:8080/"
        },
        "outputId": "e514cc0c-2d5f-48de-d093-96b086e19d02"
      },
      "outputs": [
        {
          "output_type": "stream",
          "name": "stderr",
          "text": [
            "INFO:ezkl.execute:num calibration batches: 8\n",
            "WARNING:ezkl.circuit.table:Using 3 columns for non-linearity table.\n",
            "WARNING:ezkl.circuit.table:Using 6 columns for non-linearity table.\n",
            "WARNING:ezkl.circuit.table:Using 12 columns for non-linearity table.\n",
            "WARNING:ezkl.circuit.table:Using 12 columns for non-linearity table.\n",
            "WARNING:ezkl.execute:\n",
            "\n",
            " <------------- Numerical Fidelity Report (input_scale: 2, param_scale: 2, scale_input_multiplier: 10) ------------->\n",
            "\n",
            "+------------+--------------+-----------+------------+----------------+------------------+---------------+---------------+--------------------+--------------------+------------------------+\n",
            "| mean_error | median_error | max_error | min_error  | mean_abs_error | median_abs_error | max_abs_error | min_abs_error | mean_squared_error | mean_percent_error | mean_abs_percent_error |\n",
            "+------------+--------------+-----------+------------+----------------+------------------+---------------+---------------+--------------------+--------------------+------------------------+\n",
            "| -3.147646  | -8.930053    | 16.644749 | -22.649399 | 6.244274       | 8.930053         | 22.649399     | 0.04547668    | 61.693016          | 1.1370605          | 1.611659               |\n",
            "+------------+--------------+-----------+------------+----------------+------------------+---------------+---------------+--------------------+--------------------+------------------------+\n",
            "\n",
            "\n"
          ]
        }
      ],
      "source": [
        "import ezkl\n",
        "\n",
        "run_args = ezkl.PyRunArgs()\n",
        "run_args.input_visibility = \"private\"\n",
        "run_args.param_visibility = \"fixed\"\n",
        "run_args.output_visibility = \"public\"\n",
        "run_args.num_inner_cols = 2\n",
        "run_args.variables = [(\"batch_size\", 1)]\n",
        "\n",
        "# Capture set of data points\n",
        "num_data_points = 8\n",
        "\n",
        "# Fetch 30 data points from the train_dataset\n",
        "data_points = []\n",
        "for i, (data_point, _) in enumerate(train_dataset):\n",
        "    if i >= num_data_points:\n",
        "        break\n",
        "    data_points.append(data_point)\n",
        "\n",
        "# Stack the data points to create a batch\n",
        "train_data_batch = torch.stack(data_points)\n",
        "\n",
        "# Add a batch dimension if not already present\n",
        "if train_data_batch.dim() == 3:\n",
        "    train_data_batch = train_data_batch.unsqueeze(0)\n",
        "\n",
        "x = train_data_batch.cpu().detach().numpy().reshape([-1]).tolist()\n",
        "\n",
        "data = dict(input_data = [x])\n",
        "\n",
        "cal_path = os.path.join('cal_data.json')\n",
        "\n",
        "# Serialize data into file:\n",
        "json.dump( data, open(cal_path, 'w' ))\n",
        "\n",
        "!RUST_LOG=trace\n",
        "# TODO: Dictionary outputs\n",
        "res = ezkl.gen_settings(model_path, settings_path, py_run_args=run_args)\n",
        "assert res == True\n",
        "\n",
        "res = await ezkl.calibrate_settings(cal_path, model_path, settings_path, \"resources\", scales=[2,7])\n",
        "assert res == True"
      ]
    },
    {
      "cell_type": "code",
      "execution_count": 9,
      "metadata": {
        "id": "pGb1nj720rZ3"
      },
      "outputs": [],
      "source": [
        "res = ezkl.compile_circuit(model_path, compiled_model_path, settings_path)\n",
        "assert res == True"
      ]
    },
    {
      "cell_type": "code",
      "execution_count": 10,
      "metadata": {
        "id": "umpLxVAI0rZ3",
        "colab": {
          "base_uri": "https://localhost:8080/"
        },
        "outputId": "17143e7c-e2f5-4f83-bf2c-c69ca6b8587a"
      },
      "outputs": [
        {
          "output_type": "stream",
          "name": "stderr",
          "text": [
            "INFO:ezkl.execute:SRS already exists at that path\n",
            "INFO:ezkl.execute:read 4194564 bytes from file (vector of len = 4194564)\n",
            "INFO:ezkl.execute:file hash: 90807800a1c3b248a452e1732c45ee5099f38b737356f5542c0584ec9c3ebb45\n"
          ]
        }
      ],
      "source": [
        "# srs path\n",
        "res = await ezkl.get_srs(settings_path)"
      ]
    },
    {
      "cell_type": "code",
      "execution_count": 11,
      "metadata": {
        "id": "syLy2Kt90rZ3"
      },
      "outputs": [],
      "source": [
        "# now generate the witness file\n",
        "witness_path = \"witness.json\"\n",
        "\n",
        "res = await ezkl.gen_witness(data_path, compiled_model_path, witness_path)\n",
        "assert os.path.isfile(witness_path)"
      ]
    },
    {
      "cell_type": "code",
      "execution_count": 12,
      "metadata": {
        "id": "65u_ObBQ0rZ4",
        "colab": {
          "base_uri": "https://localhost:8080/"
        },
        "outputId": "0686b74c-b97e-4ec7-adcd-d92dd5da640b"
      },
      "outputs": [
        {
          "output_type": "stream",
          "name": "stderr",
          "text": [
            "INFO:ezkl.execute:Mock proof\n",
            "INFO:ezkl.graph.model:model layout...\n",
            "INFO:ezkl.circuit.table:Loading range check table from cache: \"/root/.ezkl/cache/rangecheck_-1_1\"\n",
            "INFO:ezkl.circuit.table:Loading range check table from cache: \"/root/.ezkl/cache/rangecheck_0_16383\"\n"
          ]
        }
      ],
      "source": [
        "res = ezkl.mock(witness_path, compiled_model_path)\n",
        "assert res == True"
      ]
    },
    {
      "cell_type": "code",
      "execution_count": 13,
      "metadata": {
        "id": "c8GIoMD40rZ4",
        "colab": {
          "base_uri": "https://localhost:8080/"
        },
        "outputId": "be0e2289-c1c0-4413-b98f-de8102113b09"
      },
      "outputs": [
        {
          "output_type": "stream",
          "name": "stderr",
          "text": [
            "INFO:ezkl.graph.model:model layout...\n",
            "INFO:ezkl.circuit.table:Loading range check table from cache: \"/root/.ezkl/cache/rangecheck_-1_1\"\n",
            "INFO:ezkl.circuit.table:Loading range check table from cache: \"/root/.ezkl/cache/rangecheck_0_16383\"\n",
            "INFO:ezkl.pfsys:VK took 5.650\n",
            "INFO:ezkl.graph.model:model layout...\n",
            "INFO:ezkl.circuit.table:Loading range check table from cache: \"/root/.ezkl/cache/rangecheck_-1_1\"\n",
            "INFO:ezkl.circuit.table:Loading range check table from cache: \"/root/.ezkl/cache/rangecheck_0_16383\"\n",
            "INFO:ezkl.pfsys:PK took 6.294\n",
            "INFO:ezkl.pfsys:done saving verification key ✅\n",
            "INFO:ezkl.pfsys:done saving proving key ✅\n"
          ]
        }
      ],
      "source": [
        "\n",
        "# HERE WE SETUP THE CIRCUIT PARAMS\n",
        "# WE GOT KEYS\n",
        "# WE GOT CIRCUIT PARAMETERS\n",
        "# EVERYTHING ANYONE HAS EVER NEEDED FOR ZK\n",
        "\n",
        "res = ezkl.setup(\n",
        "        compiled_model_path,\n",
        "        vk_path,\n",
        "        pk_path,\n",
        "    )\n",
        "\n",
        "assert res == True\n",
        "assert os.path.isfile(vk_path)\n",
        "assert os.path.isfile(pk_path)\n",
        "assert os.path.isfile(settings_path)"
      ]
    },
    {
      "cell_type": "code",
      "execution_count": 14,
      "metadata": {
        "id": "vkIutAhR0rZ4",
        "colab": {
          "base_uri": "https://localhost:8080/"
        },
        "outputId": "c8b0584f-8c82-4aa2-c31c-aab184a7c972"
      },
      "outputs": [
        {
          "output_type": "stream",
          "name": "stderr",
          "text": [
            "INFO:ezkl.pfsys:loaded proving key ✅\n",
            "INFO:ezkl.pfsys:proof started...\n",
            "INFO:ezkl.graph.model:model layout...\n",
            "INFO:ezkl.circuit.table:Loading range check table from cache: \"/root/.ezkl/cache/rangecheck_-1_1\"\n",
            "INFO:ezkl.circuit.table:Loading range check table from cache: \"/root/.ezkl/cache/rangecheck_0_16383\"\n",
            "INFO:ezkl.pfsys:proof took 13.713\n"
          ]
        },
        {
          "output_type": "stream",
          "name": "stdout",
          "text": [
            "{'instances': [['fafeffef93f5e1439170b97948e833285d588181b64550b829a031e1724e6430', '55ffffef93f5e1439170b97948e833285d588181b64550b829a031e1724e6430', '4fffffef93f5e1439170b97948e833285d588181b64550b829a031e1724e6430', 'b1ffffef93f5e1439170b97948e833285d588181b64550b829a031e1724e6430', 'b0feffef93f5e1439170b97948e833285d588181b64550b829a031e1724e6430', '7e00000000000000000000000000000000000000000000000000000000000000', '03ffffef93f5e1439170b97948e833285d588181b64550b829a031e1724e6430', '53ffffef93f5e1439170b97948e833285d588181b64550b829a031e1724e6430', 'e8feffef93f5e1439170b97948e833285d588181b64550b829a031e1724e6430', '9effffef93f5e1439170b97948e833285d588181b64550b829a031e1724e6430']], 'proof': '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', 'transcript_type': 'EVM'}\n"
          ]
        }
      ],
      "source": [
        "# GENERATE A PROOF\n",
        "\n",
        "\n",
        "proof_path = os.path.join('test.pf')\n",
        "\n",
        "res = ezkl.prove(\n",
        "        witness_path,\n",
        "        compiled_model_path,\n",
        "        pk_path,\n",
        "        proof_path,\n",
        "        \"single\",\n",
        "    )\n",
        "\n",
        "print(res)\n",
        "assert os.path.isfile(proof_path)"
      ]
    },
    {
      "cell_type": "code",
      "execution_count": 15,
      "metadata": {
        "id": "KmpQBZUT0rZ4",
        "colab": {
          "base_uri": "https://localhost:8080/"
        },
        "outputId": "6dd977a2-fc01-44fc-f742-05b59c5b4f17"
      },
      "outputs": [
        {
          "output_type": "stream",
          "name": "stderr",
          "text": [
            "INFO:ezkl.pfsys:loaded verification key ✅\n",
            "INFO:ezkl.execute:verify took 0.7\n",
            "INFO:ezkl.execute:verified: true\n"
          ]
        },
        {
          "output_type": "stream",
          "name": "stdout",
          "text": [
            "verified\n"
          ]
        }
      ],
      "source": [
        "# VERIFY IT\n",
        "res = ezkl.verify(\n",
        "        proof_path,\n",
        "        settings_path,\n",
        "        vk_path,\n",
        "    )\n",
        "\n",
        "assert res == True\n",
        "print(\"verified\")"
      ]
    },
    {
      "cell_type": "markdown",
      "metadata": {
        "id": "CZ2CYQdm0rZ4"
      },
      "source": [
        "We can now create an EVM / `.sol` verifier that can be deployed on chain to verify submitted proofs using a view function."
      ]
    },
    {
      "cell_type": "code",
      "execution_count": null,
      "metadata": {
        "id": "jASymUWQ0rZ4"
      },
      "outputs": [],
      "source": [
        "\n",
        "abi_path = 'test.abi'\n",
        "sol_code_path = 'test_1.sol'\n",
        "\n",
        "res = await ezkl.create_evm_verifier(\n",
        "        vk_path,\n",
        "        settings_path,\n",
        "        sol_code_path,\n",
        "        abi_path,\n",
        "    )\n",
        "assert res == True"
      ]
    },
    {
      "cell_type": "markdown",
      "metadata": {
        "id": "-icN2yw60rZ5"
      },
      "source": [
        "## Verify on the evm"
      ]
    },
    {
      "cell_type": "code",
      "execution_count": null,
      "metadata": {
        "id": "sTLsLwaC0rZ5"
      },
      "outputs": [],
      "source": [
        "# Make sure anvil is running locally first\n",
        "# run with $ anvil -p 3030\n",
        "# we use the default anvil node here\n",
        "import json\n",
        "\n",
        "address_path = os.path.join(\"address.json\")\n",
        "\n",
        "res = await ezkl.deploy_evm(\n",
        "    address_path,\n",
        "    sol_code_path,\n",
        "    'http://127.0.0.1:3030'\n",
        ")\n",
        "\n",
        "assert res == True\n",
        "\n",
        "with open(address_path, 'r') as file:\n",
        "    addr = file.read().rstrip()"
      ]
    },
    {
      "cell_type": "code",
      "execution_count": null,
      "metadata": {
        "id": "PrSyQK4B0rZ5"
      },
      "outputs": [],
      "source": [
        "# make sure anvil is running locally\n",
        "# $ anvil -p 3030\n",
        "\n",
        "res = await ezkl.verify_evm(\n",
        "    addr,\n",
        "    proof_path,\n",
        "    \"http://127.0.0.1:3030\"\n",
        ")\n",
        "assert res == True"
      ]
    }
  ],
  "metadata": {
    "colab": {
      "provenance": [],
      "toc_visible": true
    },
    "kernelspec": {
      "display_name": "Python 3",
      "language": "python",
      "name": "python3"
    },
    "language_info": {
      "codemirror_mode": {
        "name": "ipython",
        "version": 3
      },
      "file_extension": ".py",
      "mimetype": "text/x-python",
      "name": "python",
      "nbconvert_exporter": "python",
      "pygments_lexer": "ipython3",
      "version": "3.9.15"
    }
  },
  "nbformat": 4,
  "nbformat_minor": 0
}